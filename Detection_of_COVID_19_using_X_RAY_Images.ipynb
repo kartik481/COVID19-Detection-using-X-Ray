{
  "nbformat": 4,
  "nbformat_minor": 0,
  "metadata": {
    "colab": {
      "name": "Detection of COVID-19 using X-RAY Images ",
      "provenance": [],
      "authorship_tag": "ABX9TyOQH6N1jo3PxwnxaXm4sRR8",
      "include_colab_link": true
    },
    "kernelspec": {
      "name": "python3",
      "display_name": "Python 3"
    },
    "accelerator": "GPU"
  },
  "cells": [
    {
      "cell_type": "markdown",
      "metadata": {
        "id": "view-in-github",
        "colab_type": "text"
      },
      "source": [
        "<a href=\"https://colab.research.google.com/github/kartik481/COVID19-Detection-using-X-Ray/blob/main/Detection_of_COVID_19_using_X_RAY_Images.ipynb\" target=\"_parent\"><img src=\"https://colab.research.google.com/assets/colab-badge.svg\" alt=\"Open In Colab\"/></a>"
      ]
    },
    {
      "cell_type": "code",
      "metadata": {
        "id": "P1Lk7v8GMlG3",
        "colab": {
          "base_uri": "https://localhost:8080/"
        },
        "outputId": "35d5cfbc-4920-40c4-bfd9-49d6eb6c33cd"
      },
      "source": [
        "from google.colab import drive\n",
        "drive.mount('/content/drive/')"
      ],
      "execution_count": null,
      "outputs": [
        {
          "output_type": "stream",
          "text": [
            "Mounted at /content/drive/\n"
          ],
          "name": "stdout"
        }
      ]
    },
    {
      "cell_type": "code",
      "metadata": {
        "id": "gxuBujNbBo4P"
      },
      "source": [
        "## Loading X_ray image dataset from Drive\n",
        "TRAIN_PATH=\"drive/MyDrive/Dataset/Train\"  ## Training Data\n",
        "VAL_PATH=\"drive/MyDrive/Dataset/Test\"     ## validation Data"
      ],
      "execution_count": null,
      "outputs": []
    },
    {
      "cell_type": "code",
      "metadata": {
        "id": "8AIA5vfjCGgq"
      },
      "source": [
        "## Importing required libraries\n",
        "import numpy as np\n",
        "import matplotlib.pyplot as plt\n",
        "import keras\n",
        "from keras.layers import *\n",
        "from keras.models import *\n",
        "from keras.preprocessing import image"
      ],
      "execution_count": null,
      "outputs": []
    },
    {
      "cell_type": "code",
      "metadata": {
        "id": "JIJOp5mCCMn1"
      },
      "source": [
        "## Building a simple CNN Model using relu activation function\n",
        "model = Sequential()\n",
        "model.add(Conv2D(32, (3, 3), input_shape=(224, 224,3)))\n",
        "model.add(Activation('relu'))\n",
        "model.add(MaxPooling2D(pool_size=(2, 2)))\n",
        "\n",
        "model.add(Conv2D(64, (3, 3)))\n",
        "model.add(Activation('relu'))\n",
        "model.add(MaxPooling2D(pool_size=(2, 2)))\n",
        "\n",
        "model.add(Conv2D(64, (3, 3)))\n",
        "model.add(Activation('relu'))\n",
        "model.add(MaxPooling2D(pool_size=(2, 2)))\n",
        "\n",
        "model.add(Conv2D(128, (3, 3)))\n",
        "model.add(Activation('relu'))\n",
        "model.add(MaxPooling2D(pool_size=(2, 2)))\n",
        "model.add(Dropout(0.25))\n",
        "\n",
        "model.add(Flatten())  # this converts our 3D feature maps to 1D feature vectors\n",
        "model.add(Dense(64))\n",
        "model.add(Activation('relu'))\n",
        "model.add(Dropout(0.5))\n",
        "model.add(Dense(1))\n",
        "model.add(Activation('sigmoid')) ## Using sigmoid as output activation func.\n",
        "\n",
        "model.compile(loss='binary_crossentropy',optimizer='adam',metrics=['accuracy'])"
      ],
      "execution_count": null,
      "outputs": []
    },
    {
      "cell_type": "code",
      "metadata": {
        "id": "dihYtlufJ8B1",
        "colab": {
          "base_uri": "https://localhost:8080/"
        },
        "outputId": "b5bf7d2b-8cb7-4d00-f4b4-607c1d33023e"
      },
      "source": [
        "## Detailed summary of model\n",
        "model.summary()"
      ],
      "execution_count": null,
      "outputs": [
        {
          "output_type": "stream",
          "text": [
            "Model: \"sequential_4\"\n",
            "_________________________________________________________________\n",
            "Layer (type)                 Output Shape              Param #   \n",
            "=================================================================\n",
            "conv2d_16 (Conv2D)           (None, 222, 222, 32)      896       \n",
            "_________________________________________________________________\n",
            "activation_24 (Activation)   (None, 222, 222, 32)      0         \n",
            "_________________________________________________________________\n",
            "max_pooling2d_16 (MaxPooling (None, 111, 111, 32)      0         \n",
            "_________________________________________________________________\n",
            "conv2d_17 (Conv2D)           (None, 109, 109, 64)      18496     \n",
            "_________________________________________________________________\n",
            "activation_25 (Activation)   (None, 109, 109, 64)      0         \n",
            "_________________________________________________________________\n",
            "max_pooling2d_17 (MaxPooling (None, 54, 54, 64)        0         \n",
            "_________________________________________________________________\n",
            "conv2d_18 (Conv2D)           (None, 52, 52, 64)        36928     \n",
            "_________________________________________________________________\n",
            "activation_26 (Activation)   (None, 52, 52, 64)        0         \n",
            "_________________________________________________________________\n",
            "max_pooling2d_18 (MaxPooling (None, 26, 26, 64)        0         \n",
            "_________________________________________________________________\n",
            "conv2d_19 (Conv2D)           (None, 24, 24, 128)       73856     \n",
            "_________________________________________________________________\n",
            "activation_27 (Activation)   (None, 24, 24, 128)       0         \n",
            "_________________________________________________________________\n",
            "max_pooling2d_19 (MaxPooling (None, 12, 12, 128)       0         \n",
            "_________________________________________________________________\n",
            "dropout_10 (Dropout)         (None, 12, 12, 128)       0         \n",
            "_________________________________________________________________\n",
            "flatten_4 (Flatten)          (None, 18432)             0         \n",
            "_________________________________________________________________\n",
            "dense_8 (Dense)              (None, 64)                1179712   \n",
            "_________________________________________________________________\n",
            "activation_28 (Activation)   (None, 64)                0         \n",
            "_________________________________________________________________\n",
            "dropout_11 (Dropout)         (None, 64)                0         \n",
            "_________________________________________________________________\n",
            "dense_9 (Dense)              (None, 1)                 65        \n",
            "_________________________________________________________________\n",
            "activation_29 (Activation)   (None, 1)                 0         \n",
            "=================================================================\n",
            "Total params: 1,309,953\n",
            "Trainable params: 1,309,953\n",
            "Non-trainable params: 0\n",
            "_________________________________________________________________\n"
          ],
          "name": "stdout"
        }
      ]
    },
    {
      "cell_type": "code",
      "metadata": {
        "id": "0CJaZJ5AKIoh"
      },
      "source": [
        "#Generating new Image to increase to increase train Dataset\n",
        "\n",
        "train_datagen= image.ImageDataGenerator(   \n",
        "    rescale=1./255,\n",
        "    shear_range=0.2,\n",
        "    zoom_range=0.2,\n",
        "    horizontal_flip=True\n",
        ")\n",
        "\n",
        "test_datagen= image.ImageDataGenerator(rescale=1./255)"
      ],
      "execution_count": null,
      "outputs": []
    },
    {
      "cell_type": "code",
      "metadata": {
        "id": "YtWE0XrcMZIl",
        "colab": {
          "base_uri": "https://localhost:8080/"
        },
        "outputId": "078be839-4a51-43a6-9d77-e6d7199734a6"
      },
      "source": [
        "train_generator = train_datagen.flow_from_directory(\n",
        "    TRAIN_PATH,\n",
        "    target_size=(224,224),\n",
        "    batch_size=16,\n",
        "    class_mode='binary'\n",
        ")"
      ],
      "execution_count": null,
      "outputs": [
        {
          "output_type": "stream",
          "text": [
            "Found 440 images belonging to 2 classes.\n"
          ],
          "name": "stdout"
        }
      ]
    },
    {
      "cell_type": "code",
      "metadata": {
        "id": "u_V3nGqxNUl1",
        "colab": {
          "base_uri": "https://localhost:8080/"
        },
        "outputId": "1042cde2-5d37-45fb-ae65-6d6fcc8d5c52"
      },
      "source": [
        "train_generator.class_indices"
      ],
      "execution_count": null,
      "outputs": [
        {
          "output_type": "execute_result",
          "data": {
            "text/plain": [
              "{'COVID-19': 0, 'Normal': 1}"
            ]
          },
          "metadata": {
            "tags": []
          },
          "execution_count": 72
        }
      ]
    },
    {
      "cell_type": "code",
      "metadata": {
        "id": "M23UXXc5Ovbx",
        "colab": {
          "base_uri": "https://localhost:8080/"
        },
        "outputId": "bbad9332-cf2f-4c1a-f595-c3be7c7d01ea"
      },
      "source": [
        "#Generating new Image to increase to increase Validation Dataset\n",
        "validation_generator=test_datagen.flow_from_directory(\n",
        "    VAL_PATH,\n",
        "    target_size=(224,224),\n",
        "    batch_size=16,\n",
        "    class_mode='binary'\n",
        ")"
      ],
      "execution_count": null,
      "outputs": [
        {
          "output_type": "stream",
          "text": [
            "Found 66 images belonging to 2 classes.\n"
          ],
          "name": "stdout"
        }
      ]
    },
    {
      "cell_type": "code",
      "metadata": {
        "id": "7KvTNXliRySi",
        "colab": {
          "base_uri": "https://localhost:8080/"
        },
        "outputId": "86b45b2c-937a-45b8-8cf8-9abf2fdb306e"
      },
      "source": [
        "## fitting the model\n",
        "hist=model.fit_generator(\n",
        "    train_generator,\n",
        "    steps_per_epoch=8,\n",
        "    epochs=15,\n",
        "    validation_data=validation_generator,\n",
        "    validation_steps=3\n",
        ")"
      ],
      "execution_count": null,
      "outputs": [
        {
          "output_type": "stream",
          "text": [
            "Epoch 1/15\n",
            "8/8 [==============================] - 6s 723ms/step - loss: 0.1989 - accuracy: 0.9141 - val_loss: 0.1420 - val_accuracy: 0.9792\n",
            "Epoch 2/15\n",
            "8/8 [==============================] - 5s 683ms/step - loss: 0.2539 - accuracy: 0.8828 - val_loss: 0.1348 - val_accuracy: 0.9583\n",
            "Epoch 3/15\n",
            "8/8 [==============================] - 5s 659ms/step - loss: 0.1504 - accuracy: 0.9667 - val_loss: 0.1420 - val_accuracy: 0.9583\n",
            "Epoch 4/15\n",
            "8/8 [==============================] - 5s 617ms/step - loss: 0.1846 - accuracy: 0.9583 - val_loss: 0.1057 - val_accuracy: 0.9792\n",
            "Epoch 5/15\n",
            "8/8 [==============================] - 5s 630ms/step - loss: 0.1930 - accuracy: 0.9297 - val_loss: 0.1562 - val_accuracy: 0.9583\n",
            "Epoch 6/15\n",
            "8/8 [==============================] - 6s 713ms/step - loss: 0.1483 - accuracy: 0.9609 - val_loss: 0.1403 - val_accuracy: 0.9583\n",
            "Epoch 7/15\n",
            "8/8 [==============================] - 5s 657ms/step - loss: 0.1548 - accuracy: 0.9833 - val_loss: 0.0532 - val_accuracy: 0.9792\n",
            "Epoch 8/15\n",
            "8/8 [==============================] - 6s 693ms/step - loss: 0.2038 - accuracy: 0.9609 - val_loss: 0.1159 - val_accuracy: 0.9792\n",
            "Epoch 9/15\n",
            "8/8 [==============================] - 5s 642ms/step - loss: 0.2016 - accuracy: 0.9667 - val_loss: 0.1063 - val_accuracy: 0.9792\n",
            "Epoch 10/15\n",
            "8/8 [==============================] - 6s 719ms/step - loss: 0.1517 - accuracy: 0.9453 - val_loss: 0.1195 - val_accuracy: 0.9583\n",
            "Epoch 11/15\n",
            "8/8 [==============================] - 5s 673ms/step - loss: 0.0744 - accuracy: 0.9844 - val_loss: 0.1402 - val_accuracy: 0.9583\n",
            "Epoch 12/15\n",
            "8/8 [==============================] - 5s 679ms/step - loss: 0.0603 - accuracy: 0.9844 - val_loss: 0.0962 - val_accuracy: 0.9792\n",
            "Epoch 13/15\n",
            "8/8 [==============================] - 5s 676ms/step - loss: 0.1945 - accuracy: 0.9667 - val_loss: 0.0978 - val_accuracy: 0.9792\n",
            "Epoch 14/15\n",
            "8/8 [==============================] - 5s 685ms/step - loss: 0.1909 - accuracy: 0.9453 - val_loss: 0.1284 - val_accuracy: 0.9792\n",
            "Epoch 15/15\n",
            "8/8 [==============================] - 6s 742ms/step - loss: 0.1129 - accuracy: 0.9766 - val_loss: 0.1335 - val_accuracy: 0.9583\n"
          ],
          "name": "stdout"
        }
      ]
    },
    {
      "cell_type": "code",
      "metadata": {
        "id": "4jMnnXOrLN6i"
      },
      "source": [
        "## saving the model\n",
        "model.save(\"model_adv.h5\")"
      ],
      "execution_count": null,
      "outputs": []
    },
    {
      "cell_type": "code",
      "metadata": {
        "id": "5b_YE2kDhPvU",
        "colab": {
          "base_uri": "https://localhost:8080/"
        },
        "outputId": "6f9b58e1-943d-45b8-a1e8-c25fc2ad8c0b"
      },
      "source": [
        "## checking model performance on train set\n",
        "model.evaluate(train_generator)"
      ],
      "execution_count": null,
      "outputs": [
        {
          "output_type": "stream",
          "text": [
            "28/28 [==============================] - 15s 520ms/step - loss: 0.0821 - accuracy: 0.9795\n"
          ],
          "name": "stdout"
        },
        {
          "output_type": "execute_result",
          "data": {
            "text/plain": [
              "[0.08212566375732422, 0.9795454740524292]"
            ]
          },
          "metadata": {
            "tags": []
          },
          "execution_count": 82
        }
      ]
    },
    {
      "cell_type": "code",
      "metadata": {
        "colab": {
          "base_uri": "https://localhost:8080/"
        },
        "id": "rR4--8raLCT-",
        "outputId": "49d9383c-29e0-4d93-d7f6-86ef5e55a424"
      },
      "source": [
        "## checking model performance on train set\n",
        "model.evaluate(validation_generator)"
      ],
      "execution_count": null,
      "outputs": [
        {
          "output_type": "stream",
          "text": [
            "5/5 [==============================] - 1s 206ms/step - loss: 0.1026 - accuracy: 0.9697\n"
          ],
          "name": "stdout"
        },
        {
          "output_type": "execute_result",
          "data": {
            "text/plain": [
              "[0.10258007794618607, 0.9696969985961914]"
            ]
          },
          "metadata": {
            "tags": []
          },
          "execution_count": 83
        }
      ]
    },
    {
      "cell_type": "code",
      "metadata": {
        "colab": {
          "base_uri": "https://localhost:8080/"
        },
        "id": "tDS6uvcgLkXg",
        "outputId": "539f2eee-fe7f-4559-ee15-0a1143fe0303"
      },
      "source": [
        "STEP_SIZE_TEST=validation_generator.n//validation_generator.batch_size\n",
        "validation_generator.reset()\n",
        "preds = model.predict(validation_generator, verbose=1)"
      ],
      "execution_count": null,
      "outputs": [
        {
          "output_type": "stream",
          "text": [
            "5/5 [==============================] - 1s 250ms/step\n"
          ],
          "name": "stdout"
        }
      ]
    },
    {
      "cell_type": "code",
      "metadata": {
        "id": "-rjRRhVckGFQ",
        "colab": {
          "base_uri": "https://localhost:8080/",
          "height": 295
        },
        "outputId": "28cb23d4-8fa3-4a4e-8565-4e4b5aa3d42e"
      },
      "source": [
        "#Creating the ROC curve and AUC, we’ll need to compute the false-positive rate and the true-positive rate:\n",
        "from sklearn.metrics import roc_curve\n",
        "from sklearn.metrics import auc\n",
        "\n",
        "fpr, tpr, _ = roc_curve(validation_generator.classes, preds)\n",
        "roc_auc = auc(fpr, tpr)\n",
        "plt.figure()\n",
        "lw = 2\n",
        "plt.plot(fpr, tpr, color='darkorange',\n",
        "lw=lw, label='ROC curve (area = %0.2f)' % roc_auc)\n",
        "plt.plot([0, 1], [0, 1], color='navy', lw=lw, linestyle='--')\n",
        "plt.xlim([0.0, 1.0])\n",
        "plt.ylim([0.0, 1.05])\n",
        "plt.xlabel('False Positive Rate')\n",
        "plt.ylabel('True Positive Rate')\n",
        "plt.title('Receiver operating characteristic example')\n",
        "plt.legend(loc=\"lower right\")\n",
        "plt.show()"
      ],
      "execution_count": null,
      "outputs": [
        {
          "output_type": "display_data",
          "data": {
            "image/png": "[encoded data removed]",
            "text/plain": [
              "<Figure size 432x288 with 1 Axes>"
            ]
          },
          "metadata": {
            "tags": [],
            "needs_background": "light"
          }
        }
      ]
    },
    {
      "cell_type": "markdown",
      "metadata": {
        "id": "XkKddzzqlC5_"
      },
      "source": [
        "TESTING IMAGES"
      ]
    },
    {
      "cell_type": "code",
      "metadata": {
        "id": "MqeWwESxoj0z"
      },
      "source": [
        "models=load_model('model_adv.h5')"
      ],
      "execution_count": null,
      "outputs": []
    },
    {
      "cell_type": "code",
      "metadata": {
        "id": "SSaOzVn5o7Am"
      },
      "source": [
        "import os"
      ],
      "execution_count": null,
      "outputs": []
    },
    {
      "cell_type": "code",
      "metadata": {
        "colab": {
          "base_uri": "https://localhost:8080/"
        },
        "id": "z5ZgnR0hOJFC",
        "outputId": "ee44c1da-fb33-430c-a2a0-44969345227f"
      },
      "source": [
        "train_generator.class_indices"
      ],
      "execution_count": null,
      "outputs": [
        {
          "output_type": "execute_result",
          "data": {
            "text/plain": [
              "{'COVID-19': 0, 'Normal': 1}"
            ]
          },
          "metadata": {
            "tags": []
          },
          "execution_count": 50
        }
      ]
    },
    {
      "cell_type": "code",
      "metadata": {
        "id": "r0XMlVFgOe1W"
      },
      "source": [
        "y_actual=[]\n",
        "y_test=[]"
      ],
      "execution_count": null,
      "outputs": []
    },
    {
      "cell_type": "code",
      "metadata": {
        "id": "G-Ky-RntOlAv"
      },
      "source": [
        "## Checking for sample model performance on test images(Normal ones)\n",
        "for i in os.listdir(\"drive/MyDrive/Dataset/Test/Normal/\"):\n",
        "  img=image.load_img(\"drive/MyDrive/Dataset/Test/Normal/\"+i,target_size=(224,224))\n",
        "  img=image.img_to_array(img)\n",
        "  img=np.expand_dims(img,axis=0)\n",
        "  p=model.predict_classes(img)\n",
        "  y_test.append(p[0,0])\n",
        "  y_actual.append(1)\n"
      ],
      "execution_count": null,
      "outputs": []
    },
    {
      "cell_type": "code",
      "metadata": {
        "id": "WEwyYTM0eYt6"
      },
      "source": [
        "## Checking for sample model performance on test images(actual Covid-19 ones)\n",
        "for i in os.listdir(\"drive/MyDrive/Dataset/Test/COVID-19/\"):\n",
        "  img=image.load_img(\"drive/MyDrive/Dataset/Test/COVID-19/\"+i,target_size=(224,224))\n",
        "  img=image.img_to_array(img)\n",
        "  img=np.expand_dims(img,axis=0)\n",
        "  p=model.predict_classes(img)\n",
        "  y_test.append(p[0,0])\n",
        "  y_actual.append(0)\n"
      ],
      "execution_count": null,
      "outputs": []
    },
    {
      "cell_type": "code",
      "metadata": {
        "id": "gB__Z8D1e9LU"
      },
      "source": [
        "y_actual=np.array(y_actual)\n",
        "y_test=np.array(y_test)"
      ],
      "execution_count": null,
      "outputs": []
    },
    {
      "cell_type": "code",
      "metadata": {
        "id": "1xnPr5WQgc18"
      },
      "source": [
        "## Importing libraries to make confusion matrix\n",
        "from sklearn.metrics import confusion_matrix\n",
        "import seaborn as sns"
      ],
      "execution_count": null,
      "outputs": []
    },
    {
      "cell_type": "code",
      "metadata": {
        "id": "wq1UfFCIhC9h"
      },
      "source": [
        "cm=confusion_matrix(y_actual,y_test)"
      ],
      "execution_count": null,
      "outputs": []
    },
    {
      "cell_type": "code",
      "metadata": {
        "colab": {
          "base_uri": "https://localhost:8080/",
          "height": 282
        },
        "id": "fwgYWZM2hKTP",
        "outputId": "d4f4ecbe-1b2e-48eb-e109-5ea0620d1088"
      },
      "source": [
        "## plotting a confusion matrix\n",
        "sns.heatmap(cm,cmap=\"plasma\",annot=True)"
      ],
      "execution_count": null,
      "outputs": [
        {
          "output_type": "execute_result",
          "data": {
            "text/plain": [
              "<matplotlib.axes._subplots.AxesSubplot at 0x7f259603f2b0>"
            ]
          },
          "metadata": {
            "tags": []
          },
          "execution_count": 95
        },
        {
          "output_type": "display_data",
          "data": {
            "image/png": "[encoded data removed]",
            "text/plain": [
              "<Figure size 432x288 with 2 Axes>"
            ]
          },
          "metadata": {
            "tags": [],
            "needs_background": "light"
          }
        }
      ]
    },
    {
      "cell_type": "code",
      "metadata": {
        "id": "defi0N1DheAx"
      },
      "source": [],
      "execution_count": null,
      "outputs": []
    }
  ]
}